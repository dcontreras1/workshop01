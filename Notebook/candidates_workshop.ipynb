{
 "cells": [
  {
   "cell_type": "markdown",
   "metadata": {},
   "source": [
    "import json\n",
    "import pandas as pd\n",
    "import os\n",
    "from sqlalchemy import create_engine\n",
    "import matplotlib.pyplot as plt\n",
    "import seaborn as sns\n",
    "\n",
    "#Credentials JSON\n",
    "credentials = load_credentials(\"credentials.json\")"
   ]
  },
  {
   "cell_type": "code",
   "execution_count": null,
   "metadata": {
    "vscode": {
     "languageId": "plaintext"
    }
   },
   "outputs": [],
   "source": [
    "#Database Connection\n",
    "engine = create_engine(f'postgresql://{credentials[\"db_username\"]}:{credentials[\"db_password\"]}@{credentials[\"db_host\"]}:{credentials[\"db_port\"]}/{credentials[\"database_name\"]}')"
   ]
  },
  {
   "cell_type": "code",
   "execution_count": null,
   "metadata": {
    "vscode": {
     "languageId": "plaintext"
    }
   },
   "outputs": [],
   "source": [
    "#Load Data From CSV File\n",
    "file_path = r\"C:\\Users\\Danie\\OneDrive\\Escritorio\\Workshop_1\\candidates.csv\"\n",
    "df = pd.read_csv(file_path)"
   ]
  },
  {
   "cell_type": "code",
   "execution_count": null,
   "metadata": {
    "vscode": {
     "languageId": "plaintext"
    }
   },
   "outputs": [],
   "source": [
    "#Cleaning Data\n",
    "df[\"Code Challenge Score\"] = pd.to_numeric(df[\"Code Challenge Score\"], errors=\"coerce\")\n",
    "df[\"Technical Interview Score\"] = pd.to_numeric(df[\"Technical Interview Score\"], errors=\"coerce\")"
   ]
  },
  {
   "cell_type": "code",
   "execution_count": null,
   "metadata": {
    "vscode": {
     "languageId": "plaintext"
    }
   },
   "outputs": [],
   "source": [
    "#Generate Charts\n",
    "def generate_visualizations(df):\n",
    "    # Chart de hires por Tecnología\n",
    "    plt.figure(figsize=(8, 8))\n",
    "    df[\"Technology\"].value_counts().plot(kind=\"pie\", autopct=\"%1.1f%%\", startangle=90, cmap=\"plasma\")\n",
    "    plt.title(\"Hires by Technology\")\n",
    "    plt.ylabel(\"\")\n",
    "    plt.show()\n",
    "\n",
    "    # Chart de hires por Año\n",
    "    plt.figure(figsize=(10, 6))\n",
    "    sns.countplot(y=df[\"Application Date\"].dt.year.dropna(), palette=\"viridis\")\n",
    "    plt.title(\"Hires by year\")\n",
    "    plt.xlabel(\"Number of hires\")\n",
    "    plt.ylabel(\"Year\")\n",
    "    plt.show()\n",
    "\n",
    "    # Chart de hires por Nivel de Experiencia\n",
    "    plt.figure(figsize=(8, 6))\n",
    "    df_cleaned = df.dropna(subset=[\"Seniority\"])\n",
    "    sns.countplot(x=df_cleaned[\"Seniority\"], order=df_cleaned[\"Seniority\"].value_counts().index, palette=\"coolwarm\")\n",
    "    plt.title(\"Hires by Experience Level\")\n",
    "    plt.xlabel(\"Experience Level\")\n",
    "    plt.ylabel(\"Number of Hires\")\n",
    "    plt.show()\n",
    "\n",
    "    # Chart de hires por País sobre los Años\n",
    "    countries = [\"United States of America\", \"Brazil\", \"Colombia\", \"Ecuador\"]\n",
    "    df_filtered = df[df[\"Country\"].isin(countries)]\n",
    "    df_grouped = df_filtered.groupby([\"Country\", df_filtered[\"Application Date\"].dt.year])[\"Country\"].count().reset_index(name=\"num_hires\")\n",
    "    plt.figure(figsize=(10, 6))\n",
    "    sns.lineplot(data=df_grouped, x=\"Application Date\", y=\"num_hires\", hue=\"Country\", marker=\"o\", palette=\"Dark2\")\n",
    "    plt.xticks(df_grouped[\"Application Date\"].unique(), rotation=45)\n",
    "    plt.title(\"Hires by Country Over Years\")\n",
    "    plt.xlabel(\"Year\")\n",
    "    plt.ylabel(\"Number of hires\")\n",
    "    plt.legend(title=\"Country\", loc=\"upper right\")\n",
    "    plt.grid(True, linestyle=\"--\", alpha=0.6)\n",
    "    plt.show()\n",
    "\n",
    "generate_visualizations(df)"
   ]
  }
 ],
 "metadata": {
  "language_info": {
   "name": "python"
  }
 },
 "nbformat": 4,
 "nbformat_minor": 2
}
