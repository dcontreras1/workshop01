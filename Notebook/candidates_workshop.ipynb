{
 "cells": [
  {
   "cell_type": "markdown",
   "metadata": {},
   "source": [
    "# Project Description: Hires Report\n"
   ]
  },
  {
   "cell_type": "markdown",
   "metadata": {},
   "source": [
    "# Import libraries"
   ]
  },
  {
   "cell_type": "code",
   "execution_count": null,
   "metadata": {},
   "outputs": [],
   "source": [
    "import json\n",
    "import pandas as pd\n",
    "import os\n",
    "from sqlalchemy import create_engine\n",
    "import matplotlib.pyplot as plt\n",
    "import seaborn as sns"
   ]
  },
  {
   "cell_type": "markdown",
   "metadata": {},
   "source": [
    "# Loading Database Credentials"
   ]
  },
  {
   "cell_type": "code",
   "execution_count": 16,
   "metadata": {},
   "outputs": [],
   "source": [
    "def load_credentials(file_path=\"credentials.json\"):\n",
    "    try:    \n",
    "        with open(file_path, \"r\") as file:\n",
    "            credentials = json.load(file)\n",
    "        return credentials\n",
    "    except Exception as e:\n",
    "        print(f\"Error loading credentials: {e}\")\n",
    "        return None\n",
    "    \n",
    "credentials = load_credentials()\n",
    "if not credentials:\n",
    "    print(\"credentials couldn't be loaded. Please check the 'credentials.json'\")\n",
    "    exit()"
   ]
  },
  {
   "cell_type": "markdown",
   "metadata": {},
   "source": [
    "# Connecting to the PostgreSQL Database"
   ]
  },
  {
   "cell_type": "code",
   "execution_count": 17,
   "metadata": {},
   "outputs": [],
   "source": [
    "db_username = credentials[\"db_username\"]\n",
    "db_password = credentials[\"db_password\"]\n",
    "db_host = credentials[\"db_host\"]\n",
    "db_port = credentials[\"db_port\"]\n",
    "database_name = credentials[\"database_name\"]\n",
    "\n",
    "with open(\"credentials.json\", \"r\") as file:\n",
    "    creds = json.load(file)\n",
    "\n",
    "engine = create_engine(f'postgresql://{db_username}:{db_password}@{db_host}:{db_port}/{database_name}')"
   ]
  },
  {
   "cell_type": "markdown",
   "metadata": {},
   "source": [
    "# Loading CSV Data"
   ]
  },
  {
   "cell_type": "code",
   "execution_count": 18,
   "metadata": {},
   "outputs": [],
   "source": [
    "csv_path = r\"C:\\Users\\Danie\\OneDrive\\Escritorio\\Workshop_1\\candidates.csv\"\n",
    "\n",
    "def load_csv(file_path):\n",
    "    try:\n",
    "        df = pd.read_csv(file_path, sep=';', encoding='utf-8', engine='python',\n",
    "        on_bad_lines='skip', skipinitialspace=True, dtype=str)\n",
    "        \n",
    "        if df.empty:\n",
    "            print(\"The csv is empty or couldn't be read correctly\")\n",
    "            return None\n",
    "        \n",
    "        df.columns = df.columns.str.strip()\n",
    "        print(\"csv loaded succesfully with these columns:\")\n",
    "        print(df.columns.tolist())\n",
    "        return df\n",
    "    except Exception as e:\n",
    "        print(\"Error reading the csv: {e}\")\n",
    "        return None"
   ]
  },
  {
   "cell_type": "markdown",
   "metadata": {},
   "source": [
    "# Storing Data in PostgreSQL"
   ]
  },
  {
   "cell_type": "code",
   "execution_count": 19,
   "metadata": {},
   "outputs": [],
   "source": [
    "def save_to_db(df, engine, table_name):\n",
    "    try:\n",
    "        df.to_sql(table_name, engine, if_exists='replace', index=False)\n",
    "        print(f\"Data saved succesfully in the table '{table_name}'\")\n",
    "    except Exception as e:\n",
    "        print(f\"Error storing data in the database: {e}\")"
   ]
  },
  {
   "cell_type": "markdown",
   "metadata": {},
   "source": [
    "# Loading Data from PostgreSQL"
   ]
  },
  {
   "cell_type": "code",
   "execution_count": 20,
   "metadata": {},
   "outputs": [],
   "source": [
    "def load_from_db(engine, table_name):\n",
    "    try:\n",
    "        df = pd.read_sql(f\"SELECT * FROM {table_name}\", engine)\n",
    "        print(f\"Data loaded from the table '{table_name}'\")\n",
    "        return df\n",
    "    except Exception as e:\n",
    "        print(f\"Error loading data from the database: {e}\")\n",
    "        return None"
   ]
  },
  {
   "cell_type": "markdown",
   "metadata": {},
   "source": [
    "# Generación de Visualizaciones"
   ]
  },
  {
   "cell_type": "code",
   "execution_count": 21,
   "metadata": {},
   "outputs": [],
   "source": [
    "def generate_visualizations(df):\n",
    "    df[\"Application Date\"] = pd.to_datetime(df[\"Application Date\"], errors=\"coerce\")\n",
    "\n",
    "    df = df[(df[\"Code Challenge Score\"].astype(float) >= 7) & (df[\"Technical Interview Score\"].astype(float) >= 7)]\n",
    "\n",
    "    #Chart of hires by Technology\n",
    "    plt.figure(figsize=(8, 8))\n",
    "    df[\"Technology\"].value_counts().plot(kind=\"pie\", autopct=\"%1.1f%%\", startangle=90, cmap=\"plasma\")\n",
    "    plt.title(\"Hires by Technology\")\n",
    "    plt.ylabel(\"\")\n",
    "    plt.show()\n",
    "\n",
    "    #Chart of hires by Year\n",
    "    plt.figure(figsize=(10, 6))\n",
    "    sns.countplot(y=df[\"Application Date\"].dt.year.dropna(), palette=\"viridis\")\n",
    "    plt.title(\"Hires by year\")\n",
    "    plt.xlabel(\"Number of hires\")\n",
    "    plt.ylabel(\"Year\")\n",
    "    plt.show()\n",
    "\n",
    "    #Chart of hires by experience level\n",
    "    plt.figure(figsize=(8, 6))\n",
    "    df_cleaned = df.dropna(subset=[\"Seniority\"])\n",
    "    sns.countplot(x=df_cleaned[\"Seniority\"], order=df_cleaned[\"Seniority\"].value_counts().index, palette=\"coolwarm\")\n",
    "    plt.title(\"Hires by Experience Level\")\n",
    "    plt.xlabel(\"Experience Level\")\n",
    "    plt.ylabel(\"Number of Hires\")\n",
    "    plt.show()\n",
    "\n",
    "    #Charts of hires by country over years\n",
    "    countries = [\"United States of America\", \"Brazil\", \"Colombia\", \"Ecuador\"]\n",
    "    df_filtered = df[df[\"Country\"].isin(countries)]\n",
    "    plt.figure(figsize=(10, 6))\n",
    "    sns.countplot(x=df_filtered[\"Application Date\"].dt.year, hue=df_filtered[\"Country\"], palette=\"coolwarm\")\n",
    "    plt.title(\"Hires by Country\")\n",
    "    plt.xlabel(\"Year\")\n",
    "    plt.ylabel(\"Number of Hires\")\n",
    "    plt.show()"
   ]
  }
 ],
 "metadata": {
  "kernelspec": {
   "display_name": "Workshop_env",
   "language": "python",
   "name": "python3"
  },
  "language_info": {
   "codemirror_mode": {
    "name": "ipython",
    "version": 3
   },
   "file_extension": ".py",
   "mimetype": "text/x-python",
   "name": "python",
   "nbconvert_exporter": "python",
   "pygments_lexer": "ipython3",
   "version": "3.12.9"
  }
 },
 "nbformat": 4,
 "nbformat_minor": 2
}
